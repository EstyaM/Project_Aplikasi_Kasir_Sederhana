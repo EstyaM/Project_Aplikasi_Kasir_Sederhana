{
 "cells": [
  {
   "cell_type": "code",
   "execution_count": 24,
   "id": "118dad70-9a93-4011-b868-fb9ac6623b3e",
   "metadata": {},
   "outputs": [],
   "source": [
    "import json\n",
    "\n",
    "# Data dummy untuk daftar menu\n",
    "menu_dummy = [\n",
    "    {\"nama\": \"Es Teh Manis\", \"harga\": 3000, \"stok\": 10},\n",
    "    {\"nama\": \"Nasi\", \"harga\": 5000, \"stok\": 15},\n",
    "    {\"nama\": \"Ayam Bakar\", \"harga\": 20000, \"stok\": 5},\n",
    "    {\"nama\": \"Mie Goreng\", \"harga\": 15000, \"stok\": 7},\n",
    "    {\"nama\": \"Sate Ayam\", \"harga\": 18000, \"stok\": 8},\n",
    "    {\"nama\": \"Teh Hangat\", \"harga\": 2000, \"stok\": 12},\n",
    "    {\"nama\": \"Susu Coklat\", \"harga\": 5000, \"stok\": 10},\n",
    "    {\"nama\": \"Kopi Hitam\", \"harga\": 7000, \"stok\": 9},\n",
    "    {\"nama\": \"Soto Ayam\", \"harga\": 12000, \"stok\": 6},\n",
    "]\n",
    "\n",
    "# Fungsi untuk menyimpan data menu ke file JSON\n",
    "def save_menu_to_json(menu_data):\n",
    "    with open('menu.json', 'w') as file:\n",
    "        json.dump(menu_data, file, indent=4)\n",
    "\n",
    "# Simpan data dummy ke file JSON\n",
    "file = save_menu_to_json(menu_dummy)\n"
   ]
  },
  {
   "cell_type": "code",
   "execution_count": 25,
   "id": "0af65d3e-b7ee-429b-8856-fc3482053429",
   "metadata": {},
   "outputs": [
    {
     "name": "stdout",
     "output_type": "stream",
     "text": [
      "\n",
      "Menu Kasir:\n",
      "1. Tampilkan Daftar Menu\n",
      "2. Tambah Produk\n",
      "3. Edit Produk\n",
      "4. Hapus Produk\n",
      "5. Proses Pesanan\n",
      "0. Keluar\n",
      "\n"
     ]
    },
    {
     "name": "stdin",
     "output_type": "stream",
     "text": [
      "Pilih tindakan:  5\n"
     ]
    },
    {
     "name": "stdout",
     "output_type": "stream",
     "text": [
      "\n",
      "Daftar Menu:\n",
      "1. Es Teh Manis = 3000 (Stok: 10)\n",
      "2. Nasi = 5000 (Stok: 15)\n",
      "3. Ayam Bakar = 20000 (Stok: 5)\n",
      "4. Mie Goreng = 15000 (Stok: 7)\n",
      "5. Sate Ayam = 18000 (Stok: 8)\n",
      "6. Teh Hangat = 2000 (Stok: 12)\n",
      "7. Susu Coklat = 5000 (Stok: 10)\n",
      "8. Kopi Hitam = 7000 (Stok: 9)\n",
      "9. Soto Ayam = 12000 (Stok: 6)\n"
     ]
    },
    {
     "name": "stdin",
     "output_type": "stream",
     "text": [
      "Pilih nomor menu (0 untuk keluar):  1\n",
      "Masukkan jumlah:  2\n"
     ]
    },
    {
     "name": "stdout",
     "output_type": "stream",
     "text": [
      "Pesanan ditambahkan ke keranjang.\n",
      "\n",
      "Daftar Menu:\n",
      "1. Es Teh Manis = 3000 (Stok: 8)\n",
      "2. Nasi = 5000 (Stok: 15)\n",
      "3. Ayam Bakar = 20000 (Stok: 5)\n",
      "4. Mie Goreng = 15000 (Stok: 7)\n",
      "5. Sate Ayam = 18000 (Stok: 8)\n",
      "6. Teh Hangat = 2000 (Stok: 12)\n",
      "7. Susu Coklat = 5000 (Stok: 10)\n",
      "8. Kopi Hitam = 7000 (Stok: 9)\n",
      "9. Soto Ayam = 12000 (Stok: 6)\n"
     ]
    },
    {
     "name": "stdin",
     "output_type": "stream",
     "text": [
      "Pilih nomor menu (0 untuk keluar):  0\n"
     ]
    },
    {
     "name": "stdout",
     "output_type": "stream",
     "text": [
      "\n",
      "########## Detail Pesanan ##########\n",
      "----------------------------------\n",
      "Menu   : Es Teh Manis\n",
      "Jumlah : 2\n",
      "Harga  : Rp 6000\n",
      "----------------------------------\n",
      "Total  : Rp 6000\n",
      "####################################\n",
      "\n"
     ]
    },
    {
     "name": "stdin",
     "output_type": "stream",
     "text": [
      "Masukkan uang anda: Rp  10000\n"
     ]
    },
    {
     "name": "stdout",
     "output_type": "stream",
     "text": [
      "\n",
      "Transaksi berhasil. Kembalian anda adalah Rp 4000. Terima kasih!\n",
      "\n",
      "Menu Kasir:\n",
      "1. Tampilkan Daftar Menu\n",
      "2. Tambah Produk\n",
      "3. Edit Produk\n",
      "4. Hapus Produk\n",
      "5. Proses Pesanan\n",
      "0. Keluar\n",
      "\n"
     ]
    },
    {
     "name": "stdin",
     "output_type": "stream",
     "text": [
      "Pilih tindakan:  2\n",
      "Masukkan nama produk baru:  Kwetiau\n",
      "Masukkan harga produk:  10000\n",
      "Masukkan stok produk:  12\n"
     ]
    },
    {
     "name": "stdout",
     "output_type": "stream",
     "text": [
      "Produk 'Kwetiau' telah ditambahkan ke daftar menu.\n",
      "\n",
      "Menu Kasir:\n",
      "1. Tampilkan Daftar Menu\n",
      "2. Tambah Produk\n",
      "3. Edit Produk\n",
      "4. Hapus Produk\n",
      "5. Proses Pesanan\n",
      "0. Keluar\n",
      "\n"
     ]
    },
    {
     "name": "stdin",
     "output_type": "stream",
     "text": [
      "Pilih tindakan:  3\n"
     ]
    },
    {
     "name": "stdout",
     "output_type": "stream",
     "text": [
      "\n",
      "Daftar Menu:\n",
      "1. Es Teh Manis = 3000 (Stok: 8)\n",
      "2. Nasi = 5000 (Stok: 15)\n",
      "3. Ayam Bakar = 20000 (Stok: 5)\n",
      "4. Mie Goreng = 15000 (Stok: 7)\n",
      "5. Sate Ayam = 18000 (Stok: 8)\n",
      "6. Teh Hangat = 2000 (Stok: 12)\n",
      "7. Susu Coklat = 5000 (Stok: 10)\n",
      "8. Kopi Hitam = 7000 (Stok: 9)\n",
      "9. Soto Ayam = 12000 (Stok: 6)\n",
      "10. Kwetiau = 10000 (Stok: 12)\n"
     ]
    },
    {
     "name": "stdin",
     "output_type": "stream",
     "text": [
      "Pilih nomor menu yang ingin diedit:  10\n"
     ]
    },
    {
     "name": "stdout",
     "output_type": "stream",
     "text": [
      "Produk yang akan diedit: Kwetiau\n"
     ]
    },
    {
     "name": "stdin",
     "output_type": "stream",
     "text": [
      "Masukkan nama produk baru (biarkan kosong untuk tidak mengubah):  Kwetiau Goreng\n",
      "Masukkan harga produk baru (biarkan kosong untuk tidak mengubah):  12000\n",
      "Masukkan stok produk baru (biarkan kosong untuk tidak mengubah):  15\n"
     ]
    },
    {
     "name": "stdout",
     "output_type": "stream",
     "text": [
      "Produk 'Kwetiau Goreng' telah diperbarui.\n",
      "\n",
      "Menu Kasir:\n",
      "1. Tampilkan Daftar Menu\n",
      "2. Tambah Produk\n",
      "3. Edit Produk\n",
      "4. Hapus Produk\n",
      "5. Proses Pesanan\n",
      "0. Keluar\n",
      "\n"
     ]
    },
    {
     "name": "stdin",
     "output_type": "stream",
     "text": [
      "Pilih tindakan:  4\n"
     ]
    },
    {
     "name": "stdout",
     "output_type": "stream",
     "text": [
      "\n",
      "Daftar Menu:\n",
      "1. Es Teh Manis = 3000 (Stok: 8)\n",
      "2. Nasi = 5000 (Stok: 15)\n",
      "3. Ayam Bakar = 20000 (Stok: 5)\n",
      "4. Mie Goreng = 15000 (Stok: 7)\n",
      "5. Sate Ayam = 18000 (Stok: 8)\n",
      "6. Teh Hangat = 2000 (Stok: 12)\n",
      "7. Susu Coklat = 5000 (Stok: 10)\n",
      "8. Kopi Hitam = 7000 (Stok: 9)\n",
      "9. Soto Ayam = 12000 (Stok: 6)\n",
      "10. Kwetiau Goreng = 12000 (Stok: 15)\n"
     ]
    },
    {
     "name": "stdin",
     "output_type": "stream",
     "text": [
      "Pilih nomor menu yang ingin dihapus:  10\n"
     ]
    },
    {
     "name": "stdout",
     "output_type": "stream",
     "text": [
      "Produk 'Kwetiau Goreng' telah dihapus dari daftar menu.\n",
      "\n",
      "Menu Kasir:\n",
      "1. Tampilkan Daftar Menu\n",
      "2. Tambah Produk\n",
      "3. Edit Produk\n",
      "4. Hapus Produk\n",
      "5. Proses Pesanan\n",
      "0. Keluar\n",
      "\n"
     ]
    },
    {
     "name": "stdin",
     "output_type": "stream",
     "text": [
      "Pilih tindakan:  1\n"
     ]
    },
    {
     "name": "stdout",
     "output_type": "stream",
     "text": [
      "\n",
      "Daftar Menu:\n",
      "1. Es Teh Manis = 3000 (Stok: 8)\n",
      "2. Nasi = 5000 (Stok: 15)\n",
      "3. Ayam Bakar = 20000 (Stok: 5)\n",
      "4. Mie Goreng = 15000 (Stok: 7)\n",
      "5. Sate Ayam = 18000 (Stok: 8)\n",
      "6. Teh Hangat = 2000 (Stok: 12)\n",
      "7. Susu Coklat = 5000 (Stok: 10)\n",
      "8. Kopi Hitam = 7000 (Stok: 9)\n",
      "9. Soto Ayam = 12000 (Stok: 6)\n",
      "\n",
      "Menu Kasir:\n",
      "1. Tampilkan Daftar Menu\n",
      "2. Tambah Produk\n",
      "3. Edit Produk\n",
      "4. Hapus Produk\n",
      "5. Proses Pesanan\n",
      "0. Keluar\n",
      "\n"
     ]
    },
    {
     "name": "stdin",
     "output_type": "stream",
     "text": [
      "Pilih tindakan:  0\n"
     ]
    }
   ],
   "source": [
    "import json\n",
    "\n",
    "# Fungsi untuk membaca daftar menu dari file JSON\n",
    "def load_menu():\n",
    "    try:\n",
    "        with open('menu.json', 'r') as file:\n",
    "            menu_data = json.load(file)\n",
    "        return menu_data\n",
    "    except FileNotFoundError:\n",
    "        return []\n",
    "\n",
    "# Fungsi untuk menyimpan data menu ke file JSON\n",
    "def save_menu_to_json(menu_data):\n",
    "    with open('menu.json', 'w') as file:\n",
    "        json.dump(menu_data, file, indent=4)\n",
    "\n",
    "# Fungsi untuk mencetak daftar menu\n",
    "def print_menu(menu):\n",
    "    print(\"\")\n",
    "    print(\"Daftar Menu:\")\n",
    "    for idx, item in enumerate(menu, start=1):\n",
    "        print(f\"{idx}. {item['nama']} = {item['harga']} (Stok: {item['stok']})\")\n",
    "\n",
    "# Fungsi untuk menambah produk ke daftar menu\n",
    "def tambah_produk(menu):\n",
    "    nama = input(\"Masukkan nama produk baru: \")\n",
    "    harga = int(input(\"Masukkan harga produk: \"))\n",
    "    stok = int(input(\"Masukkan stok produk: \"))\n",
    "    \n",
    "    menu.append({\"nama\": nama, \"harga\": harga, \"stok\": stok})\n",
    "    save_menu_to_json(menu)\n",
    "    print(f\"Produk '{nama}' telah ditambahkan ke daftar menu.\")\n",
    "\n",
    "# Fungsi untuk mengedit produk dalam daftar menu\n",
    "def edit_produk(menu):\n",
    "    print_menu(menu)\n",
    "    try:\n",
    "        nomor_menu = int(input(\"Pilih nomor menu yang ingin diedit: \"))\n",
    "        if nomor_menu < 1 or nomor_menu > len(menu):\n",
    "            print(\"Nomor menu tidak valid.\")\n",
    "            return\n",
    "        menu_item = menu[nomor_menu - 1]\n",
    "        print(f\"Produk yang akan diedit: {menu_item['nama']}\")\n",
    "        nama = input(\"Masukkan nama produk baru (biarkan kosong untuk tidak mengubah): \")\n",
    "        if nama:\n",
    "            menu_item['nama'] = nama\n",
    "        harga = input(\"Masukkan harga produk baru (biarkan kosong untuk tidak mengubah): \")\n",
    "        if harga:\n",
    "            menu_item['harga'] = int(harga)\n",
    "        stok = input(\"Masukkan stok produk baru (biarkan kosong untuk tidak mengubah): \")\n",
    "        if stok:\n",
    "            menu_item['stok'] = int(stok)\n",
    "        save_menu_to_json(menu)\n",
    "        print(f\"Produk '{menu_item['nama']}' telah diperbarui.\")\n",
    "    except ValueError:\n",
    "        print(\"Input tidak valid.\")\n",
    "\n",
    "# Fungsi untuk menghapus produk dari daftar menu\n",
    "def hapus_produk(menu):\n",
    "    print_menu(menu)\n",
    "    try:\n",
    "        nomor_menu = int(input(\"Pilih nomor menu yang ingin dihapus: \"))\n",
    "        if nomor_menu < 1 or nomor_menu > len(menu):\n",
    "            print(\"Nomor menu tidak valid.\")\n",
    "            return\n",
    "        menu_item = menu.pop(nomor_menu - 1)\n",
    "        save_menu_to_json(menu)\n",
    "        print(f\"Produk '{menu_item['nama']}' telah dihapus dari daftar menu.\")\n",
    "    except ValueError:\n",
    "        print(\"Input tidak valid.\")\n",
    "\n",
    "# Fungsi untuk menghitung total harga pesanan\n",
    "def hitung_total(pesanan, menu):\n",
    "    total = 0\n",
    "    for item in pesanan:\n",
    "        harga = menu[item['menu']]['harga']\n",
    "        jumlah = item['jumlah']\n",
    "        total += harga * jumlah\n",
    "    return total\n",
    "\n",
    "# Fungsi untuk mencetak detail pesanan\n",
    "def cetak_detail_pesanan(pesanan, menu):\n",
    "    print(\"\")\n",
    "    print(\"########## Detail Pesanan ##########\")\n",
    "    for item in pesanan:\n",
    "        menu_detail = menu[item['menu']]\n",
    "        print(\"----------------------------------\")\n",
    "        print(f\"Menu   : {menu_detail['nama']}\")\n",
    "        print(f\"Jumlah : {item['jumlah']}\")\n",
    "        print(f\"Harga  : Rp {menu_detail['harga'] * item['jumlah']}\")\n",
    "    total_harga = hitung_total(pesanan, menu)\n",
    "    print(\"----------------------------------\")\n",
    "    print(f\"Total  : Rp {total_harga}\")\n",
    "    print(\"####################################\")\n",
    "    print(\"\")\n",
    "\n",
    "# Fungsi untuk mengelola proses pesanan\n",
    "def proses_pesanan(menu):\n",
    "    pesanan = []\n",
    "    total_harga = 0  # Inisialisasi total_harga\n",
    "    while True:\n",
    "        print_menu(menu)\n",
    "        try:\n",
    "            nomor_menu = int(input(\"Pilih nomor menu (0 untuk keluar): \"))\n",
    "            if nomor_menu == 0:\n",
    "                break\n",
    "            if nomor_menu < 1 or nomor_menu > len(menu):\n",
    "                print(\"Nomor menu tidak valid.\")\n",
    "                continue\n",
    "            if menu[nomor_menu - 1]['stok'] == 0:\n",
    "                print(\"Stok habis. Silakan pilih menu lain.\")\n",
    "                continue\n",
    "            jumlah = int(input(\"Masukkan jumlah: \"))\n",
    "            if jumlah <= 0:\n",
    "                print(\"Jumlah tidak valid.\")\n",
    "                continue\n",
    "            pesanan.append({'menu': nomor_menu - 1, 'jumlah': jumlah})\n",
    "            menu[nomor_menu - 1]['stok'] -= jumlah\n",
    "            print(\"Pesanan ditambahkan ke keranjang.\")\n",
    "            total_harga += menu[nomor_menu - 1]['harga'] * jumlah  # Menambahkan total harga\n",
    "        except ValueError:\n",
    "            print(\"Input tidak valid.\")\n",
    "    if not pesanan:\n",
    "        print(\"Pesanan kosong. Terima kasih!\")\n",
    "        return\n",
    "    cetak_detail_pesanan(pesanan, menu)\n",
    "    while True:\n",
    "        uang_pelanggan = int(input(\"Masukkan uang anda: Rp \"))\n",
    "        if uang_pelanggan < total_harga:\n",
    "            print(\"Ooops, uang yang anda miliki tidak cukup untuk membeli pesanan. Coba lagi.\")\n",
    "        elif uang_pelanggan == total_harga:\n",
    "            print(\"Transaksi berhasil. Uang anda pas. Terima kasih!\")\n",
    "            break\n",
    "        else:\n",
    "            kembalian = uang_pelanggan - total_harga\n",
    "            print(\"\")\n",
    "            print(f\"Transaksi berhasil. Kembalian anda adalah Rp {kembalian}. Terima kasih!\")\n",
    "            break\n",
    "\n",
    "# Fungsi utama\n",
    "def main():\n",
    "    menu = load_menu()\n",
    "    \n",
    "    while True:\n",
    "        print(\"\")\n",
    "        print(\"Menu Kasir:\")\n",
    "        print(\"1. Tampilkan Daftar Menu\")\n",
    "        print(\"2. Tambah Produk\")\n",
    "        print(\"3. Edit Produk\")\n",
    "        print(\"4. Hapus Produk\")\n",
    "        print(\"5. Proses Pesanan\")\n",
    "        print(\"0. Keluar\")\n",
    "        print(\"\")\n",
    "        \n",
    "        try:\n",
    "            pilihan = int(input(\"Pilih tindakan: \"))\n",
    "            if pilihan == 0:\n",
    "                break\n",
    "            elif pilihan == 1:\n",
    "                print_menu(menu)\n",
    "            elif pilihan == 2:\n",
    "                tambah_produk(menu)\n",
    "            elif pilihan == 3:\n",
    "                edit_produk(menu)\n",
    "            elif pilihan == 4:\n",
    "                hapus_produk(menu)\n",
    "            elif pilihan == 5:\n",
    "                proses_pesanan(menu)\n",
    "            else:\n",
    "                print(\"Pilihan tidak valid.\")\n",
    "        except ValueError:\n",
    "            print(\"Input tidak valid.\")\n",
    "\n",
    "if __name__ == \"__main__\":\n",
    "    main()\n"
   ]
  },
  {
   "cell_type": "code",
   "execution_count": null,
   "id": "90dfe01f-a6d0-457f-a84a-2188faf936c0",
   "metadata": {},
   "outputs": [],
   "source": []
  }
 ],
 "metadata": {
  "kernelspec": {
   "display_name": "Python 3 (ipykernel)",
   "language": "python",
   "name": "python3"
  },
  "language_info": {
   "codemirror_mode": {
    "name": "ipython",
    "version": 3
   },
   "file_extension": ".py",
   "mimetype": "text/x-python",
   "name": "python",
   "nbconvert_exporter": "python",
   "pygments_lexer": "ipython3",
   "version": "3.10.7"
  }
 },
 "nbformat": 4,
 "nbformat_minor": 5
}
